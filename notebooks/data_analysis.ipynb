{
 "cells": [
  {
   "cell_type": "code",
   "execution_count": 1,
   "id": "683d40d8",
   "metadata": {},
   "outputs": [],
   "source": [
    "# Import necessary libraries\n",
    "import pandas as pd\n",
    "import numpy as np\n",
    "import seaborn as sns\n",
    "from sklearn.model_selection import train_test_split\n",
    "from sklearn.linear_model import LinearRegression\n",
    "from sklearn.metrics import mean_squared_error, mean_absolute_error, r2_score\n",
    "from sklearn.ensemble import RandomForestRegressor\n",
    "\n",
    "import sys\n",
    "sys.path.append('..')\n",
    "from utils.premium import suggested_premium\n",
    "from utils.cleaning import create_age_groups\n",
    "from utils.models import ml_model"
   ]
  },
  {
   "cell_type": "code",
   "execution_count": 2,
   "id": "3c032118",
   "metadata": {},
   "outputs": [
    {
     "data": {
      "text/html": [
       "<div>\n",
       "<style scoped>\n",
       "    .dataframe tbody tr th:only-of-type {\n",
       "        vertical-align: middle;\n",
       "    }\n",
       "\n",
       "    .dataframe tbody tr th {\n",
       "        vertical-align: top;\n",
       "    }\n",
       "\n",
       "    .dataframe thead th {\n",
       "        text-align: right;\n",
       "    }\n",
       "</style>\n",
       "<table border=\"1\" class=\"dataframe\">\n",
       "  <thead>\n",
       "    <tr style=\"text-align: right;\">\n",
       "      <th></th>\n",
       "      <th>DUID</th>\n",
       "      <th>PID</th>\n",
       "      <th>DUPERSID</th>\n",
       "      <th>PANEL</th>\n",
       "      <th>DATAYEAR</th>\n",
       "      <th>FAMID31</th>\n",
       "      <th>FAMID42</th>\n",
       "      <th>FAMID53</th>\n",
       "      <th>FAMID22</th>\n",
       "      <th>FAMIDYR</th>\n",
       "      <th>...</th>\n",
       "      <th>RXOSR22</th>\n",
       "      <th>RXPTR22</th>\n",
       "      <th>RXOTH22</th>\n",
       "      <th>PERWT22F</th>\n",
       "      <th>FAMWT22F</th>\n",
       "      <th>FAMWT22C</th>\n",
       "      <th>SAQWT22F</th>\n",
       "      <th>DIABW22F</th>\n",
       "      <th>VARSTR</th>\n",
       "      <th>VARPSU</th>\n",
       "    </tr>\n",
       "  </thead>\n",
       "  <tbody>\n",
       "    <tr>\n",
       "      <th>0</th>\n",
       "      <td>2460002</td>\n",
       "      <td>101</td>\n",
       "      <td>2460002101</td>\n",
       "      <td>24 PANEL 24</td>\n",
       "      <td>2022 YEAR</td>\n",
       "      <td>A</td>\n",
       "      <td>A</td>\n",
       "      <td>A</td>\n",
       "      <td>A</td>\n",
       "      <td>A</td>\n",
       "      <td>...</td>\n",
       "      <td>0</td>\n",
       "      <td>0</td>\n",
       "      <td>0</td>\n",
       "      <td>5728.309495</td>\n",
       "      <td>5232.211986</td>\n",
       "      <td>5232.211986</td>\n",
       "      <td>3994.687140</td>\n",
       "      <td>6034.636755</td>\n",
       "      <td>2082</td>\n",
       "      <td>1</td>\n",
       "    </tr>\n",
       "    <tr>\n",
       "      <th>1</th>\n",
       "      <td>2460006</td>\n",
       "      <td>101</td>\n",
       "      <td>2460006101</td>\n",
       "      <td>24 PANEL 24</td>\n",
       "      <td>2022 YEAR</td>\n",
       "      <td>A</td>\n",
       "      <td>A</td>\n",
       "      <td>A</td>\n",
       "      <td>A</td>\n",
       "      <td>A</td>\n",
       "      <td>...</td>\n",
       "      <td>0</td>\n",
       "      <td>0</td>\n",
       "      <td>0</td>\n",
       "      <td>15648.881461</td>\n",
       "      <td>16017.881691</td>\n",
       "      <td>16017.881691</td>\n",
       "      <td>0.000000</td>\n",
       "      <td>0.000000</td>\n",
       "      <td>2001</td>\n",
       "      <td>4</td>\n",
       "    </tr>\n",
       "    <tr>\n",
       "      <th>2</th>\n",
       "      <td>2460006</td>\n",
       "      <td>102</td>\n",
       "      <td>2460006102</td>\n",
       "      <td>24 PANEL 24</td>\n",
       "      <td>2022 YEAR</td>\n",
       "      <td>A</td>\n",
       "      <td>A</td>\n",
       "      <td>A</td>\n",
       "      <td>A</td>\n",
       "      <td>A</td>\n",
       "      <td>...</td>\n",
       "      <td>0</td>\n",
       "      <td>0</td>\n",
       "      <td>0</td>\n",
       "      <td>14123.720178</td>\n",
       "      <td>16017.881691</td>\n",
       "      <td>12580.731740</td>\n",
       "      <td>0.000000</td>\n",
       "      <td>0.000000</td>\n",
       "      <td>2001</td>\n",
       "      <td>4</td>\n",
       "    </tr>\n",
       "    <tr>\n",
       "      <th>3</th>\n",
       "      <td>2460010</td>\n",
       "      <td>101</td>\n",
       "      <td>2460010101</td>\n",
       "      <td>24 PANEL 24</td>\n",
       "      <td>2022 YEAR</td>\n",
       "      <td>A</td>\n",
       "      <td>A</td>\n",
       "      <td>A</td>\n",
       "      <td>A</td>\n",
       "      <td>A</td>\n",
       "      <td>...</td>\n",
       "      <td>0</td>\n",
       "      <td>5288</td>\n",
       "      <td>299</td>\n",
       "      <td>16982.054917</td>\n",
       "      <td>21905.758877</td>\n",
       "      <td>21905.758877</td>\n",
       "      <td>0.000000</td>\n",
       "      <td>0.000000</td>\n",
       "      <td>2038</td>\n",
       "      <td>3</td>\n",
       "    </tr>\n",
       "    <tr>\n",
       "      <th>4</th>\n",
       "      <td>2460018</td>\n",
       "      <td>101</td>\n",
       "      <td>2460018101</td>\n",
       "      <td>24 PANEL 24</td>\n",
       "      <td>2022 YEAR</td>\n",
       "      <td>A</td>\n",
       "      <td>A</td>\n",
       "      <td>A</td>\n",
       "      <td>A</td>\n",
       "      <td>A</td>\n",
       "      <td>...</td>\n",
       "      <td>0</td>\n",
       "      <td>10</td>\n",
       "      <td>0</td>\n",
       "      <td>10682.619947</td>\n",
       "      <td>11344.291012</td>\n",
       "      <td>11344.291012</td>\n",
       "      <td>17152.439412</td>\n",
       "      <td>0.000000</td>\n",
       "      <td>2041</td>\n",
       "      <td>1</td>\n",
       "    </tr>\n",
       "  </tbody>\n",
       "</table>\n",
       "<p>5 rows × 1420 columns</p>\n",
       "</div>"
      ],
      "text/plain": [
       "      DUID  PID    DUPERSID        PANEL   DATAYEAR FAMID31 FAMID42 FAMID53  \\\n",
       "0  2460002  101  2460002101  24 PANEL 24  2022 YEAR       A       A       A   \n",
       "1  2460006  101  2460006101  24 PANEL 24  2022 YEAR       A       A       A   \n",
       "2  2460006  102  2460006102  24 PANEL 24  2022 YEAR       A       A       A   \n",
       "3  2460010  101  2460010101  24 PANEL 24  2022 YEAR       A       A       A   \n",
       "4  2460018  101  2460018101  24 PANEL 24  2022 YEAR       A       A       A   \n",
       "\n",
       "  FAMID22 FAMIDYR  ... RXOSR22 RXPTR22 RXOTH22      PERWT22F      FAMWT22F  \\\n",
       "0       A       A  ...       0       0       0   5728.309495   5232.211986   \n",
       "1       A       A  ...       0       0       0  15648.881461  16017.881691   \n",
       "2       A       A  ...       0       0       0  14123.720178  16017.881691   \n",
       "3       A       A  ...       0    5288     299  16982.054917  21905.758877   \n",
       "4       A       A  ...       0      10       0  10682.619947  11344.291012   \n",
       "\n",
       "       FAMWT22C      SAQWT22F     DIABW22F VARSTR VARPSU  \n",
       "0   5232.211986   3994.687140  6034.636755   2082      1  \n",
       "1  16017.881691      0.000000     0.000000   2001      4  \n",
       "2  12580.731740      0.000000     0.000000   2001      4  \n",
       "3  21905.758877      0.000000     0.000000   2038      3  \n",
       "4  11344.291012  17152.439412     0.000000   2041      1  \n",
       "\n",
       "[5 rows x 1420 columns]"
      ]
     },
     "execution_count": 2,
     "metadata": {},
     "output_type": "execute_result"
    }
   ],
   "source": [
    "# Save data to df\n",
    "df = pd.read_stata('../data/h243.dta')\n",
    "df.head()"
   ]
  },
  {
   "cell_type": "code",
   "execution_count": 3,
   "id": "bb9c9d3a",
   "metadata": {},
   "outputs": [
    {
     "data": {
      "image/png": "[encoded data removed]",
      "text/plain": [
       "<Figure size 640x480 with 1 Axes>"
      ]
     },
     "metadata": {},
     "output_type": "display_data"
    }
   ],
   "source": [
    "# The histogram shows a slight skew to the left, indicating more responses from older individuals.\n",
    "age_fig = sns.histplot(\n",
    "    x = 'AGE42X',\n",
    "    data = df\n",
    ").set_title('Age Distribution')"
   ]
  },
  {
   "cell_type": "code",
   "execution_count": 4,
   "id": "607fb252",
   "metadata": {},
   "outputs": [
    {
     "name": "stderr",
     "output_type": "stream",
     "text": [
      "c:\\Users\\kevin\\Modeling-Expected-Healthcare-Costs\\notebooks\\..\\utils\\cleaning.py:5: PerformanceWarning: DataFrame is highly fragmented.  This is usually the result of calling `frame.insert` many times, which has poor performance.  Consider joining all columns at once using pd.concat(axis=1) instead. To get a de-fragmented frame, use `newframe = frame.copy()`\n",
      "  df['AGEGROUP'] = pd.cut(df['AGE42X'], bins = [0, 10, 20, 30, 40, 50, 60, 70, 100], labels = ['0-9', '10-19', '20-29', '30-39', '40-49', '50-59', '60-69', '70+'])\n"
     ]
    },
    {
     "data": {
      "text/plain": [
       "Text(0.5, 1.0, 'Age Group Distribution')"
      ]
     },
     "execution_count": 4,
     "metadata": {},
     "output_type": "execute_result"
    },
    {
     "data": {
      "image/png": "[encoded data removed]",
      "text/plain": [
       "<Figure size 640x480 with 1 Axes>"
      ]
     },
     "metadata": {},
     "output_type": "display_data"
    }
   ],
   "source": [
    "# Seperating ages into age groups shows a stronger left skewed distribution\n",
    "create_age_groups(df)\n",
    "sns.histplot(\n",
    "    x ='AGEGROUP',\n",
    "    data = df\n",
    ").set_title('Age Group Distribution')"
   ]
  },
  {
   "cell_type": "code",
   "execution_count": 5,
   "id": "50e41926",
   "metadata": {},
   "outputs": [
    {
     "data": {
      "image/png": "[encoded data removed]",
      "text/plain": [
       "<Figure size 640x480 with 1 Axes>"
      ]
     },
     "metadata": {},
     "output_type": "display_data"
    }
   ],
   "source": [
    "# The following bar plot visualizes how the older a person is, the \n",
    "age_expenditures = sns.barplot(\n",
    "    x = df['AGEGROUP'],\n",
    "    y = df['TOTEXP22']\n",
    ").set(\n",
    "    xlabel = 'Age Groups',\n",
    "    ylabel = 'Average Expenditures',\n",
    "    title = 'Average Expenditures Per Age Group'\n",
    ")"
   ]
  },
  {
   "cell_type": "code",
   "execution_count": 6,
   "id": "bcdfb003",
   "metadata": {},
   "outputs": [],
   "source": [
    "# extract_first_number(df, columns = ['SEX', 'REGION42', 'EMPST42', 'POVCAT22'])\n",
    "# df[['SEX', 'REGION42', 'EMPST42', 'POVCAT22']].apply(lambda column: print(column.value_counts()))"
   ]
  },
  {
   "cell_type": "code",
   "execution_count": 7,
   "id": "31114790",
   "metadata": {},
   "outputs": [],
   "source": [
    "# Create train test sets\n",
    "# Predict total expenditures with age, gender, region, employment status, poverty percentage, and insurance coverage\n",
    "model_df = df[['AGE42X', 'SEX', 'REGION42', 'EMPST42', 'POVCAT22', 'INSCOV22', 'TOTEXP22']].dropna()\n",
    "x = model_df.drop(columns = 'TOTEXP22')\n",
    "x = pd.get_dummies(x, columns=['SEX', 'REGION42', 'EMPST42', 'POVCAT22', 'INSCOV22'], drop_first=True)\n",
    "y = model_df['TOTEXP22']\n",
    "\n",
    "# Additionally created two seperate y_train and y_test sets, which will be used later in the second linear regression\n",
    "# model. This is due to the heavily skewed nature of the data.\n",
    "x_train, x_test, y_train, y_test, y_train_log, y_test_log = train_test_split(x, y, np.log1p(y), test_size = 0.2, random_state = 64)"
   ]
  },
  {
   "cell_type": "code",
   "execution_count": 8,
   "id": "dbba3a00",
   "metadata": {},
   "outputs": [
    {
     "name": "stdout",
     "output_type": "stream",
     "text": [
      "R Squared: 0.05245869451370477\n",
      "r2_score 0.05245869451370477\n",
      "mean_squared_error 422697650.13570213\n",
      "mean_absolute_error 8619.474153210178\n"
     ]
    }
   ],
   "source": [
    "# Using a linaer model gives a very low r squared value. This likely means that either\n",
    "# the variables being used are low indicators of total expenditures or there is a non linear\n",
    "# correlation between the variables.\n",
    "linear_model = ml_model(LinearRegression(), x_train, x_test, y_train, y_test)"
   ]
  },
  {
   "cell_type": "code",
   "execution_count": 9,
   "id": "9f57ff4c",
   "metadata": {},
   "outputs": [
    {
     "name": "stdout",
     "output_type": "stream",
     "text": [
      "R Squared: 0.2514576529240118\n",
      "r2_score 0.2514576529240118\n",
      "mean_squared_error 7.711451675286367\n",
      "mean_absolute_error 2.0738572192089886\n"
     ]
    }
   ],
   "source": [
    "# By applying a log transformation using np.log1p(), the skew in the total expenditures can be reduced.\n",
    "# This caused the R Squared value to drastically improve from 0.0525 to 0.2515, though the value is not\n",
    "# large enough to determine a strong correlation.\n",
    "linear_model_log = ml_model(LinearRegression(), x_train, x_test, y_train_log, y_test_log)"
   ]
  },
  {
   "cell_type": "code",
   "execution_count": 10,
   "id": "d273c138",
   "metadata": {},
   "outputs": [
    {
     "name": "stdout",
     "output_type": "stream",
     "text": [
      "R Squared: -0.23483182008284964\n",
      "r2_score -0.23483182008284964\n",
      "mean_squared_error 550857789.1429579\n",
      "mean_absolute_error 9606.829052334791\n"
     ]
    }
   ],
   "source": [
    "# Create a random forest model of the data. This has a stronger r squared value than the first linear regression\n",
    "# model, but it is slightly lower than the one with np.log1p.\n",
    "rf_model = ml_model(RandomForestRegressor(n_estimators = 100, random_state = 64), x_train, x_test, y_train, y_test)"
   ]
  },
  {
   "cell_type": "code",
   "execution_count": 11,
   "id": "00eca175",
   "metadata": {},
   "outputs": [
    {
     "data": {
      "text/html": [
       "<div>\n",
       "<style scoped>\n",
       "    .dataframe tbody tr th:only-of-type {\n",
       "        vertical-align: middle;\n",
       "    }\n",
       "\n",
       "    .dataframe tbody tr th {\n",
       "        vertical-align: top;\n",
       "    }\n",
       "\n",
       "    .dataframe thead th {\n",
       "        text-align: right;\n",
       "    }\n",
       "</style>\n",
       "<table border=\"1\" class=\"dataframe\">\n",
       "  <thead>\n",
       "    <tr style=\"text-align: right;\">\n",
       "      <th></th>\n",
       "      <th>AGE42X</th>\n",
       "      <th>SEX</th>\n",
       "      <th>REGION42</th>\n",
       "      <th>EMPST42</th>\n",
       "      <th>POVCAT22</th>\n",
       "      <th>INSCOV22</th>\n",
       "      <th>TOTEXP22</th>\n",
       "      <th>predicted_cost</th>\n",
       "      <th>suggested_premium</th>\n",
       "    </tr>\n",
       "  </thead>\n",
       "  <tbody>\n",
       "    <tr>\n",
       "      <th>0</th>\n",
       "      <td>77</td>\n",
       "      <td>2 FEMALE</td>\n",
       "      <td>2 MIDWEST</td>\n",
       "      <td>4 NOT EMPLOYED DURING RD 4/2</td>\n",
       "      <td>3 LOW INCOME</td>\n",
       "      <td>2 PUBLIC ONLY</td>\n",
       "      <td>15766</td>\n",
       "      <td>15267.833476</td>\n",
       "      <td>21811.19</td>\n",
       "    </tr>\n",
       "    <tr>\n",
       "      <th>1</th>\n",
       "      <td>63</td>\n",
       "      <td>2 FEMALE</td>\n",
       "      <td>2 MIDWEST</td>\n",
       "      <td>4 NOT EMPLOYED DURING RD 4/2</td>\n",
       "      <td>1 POOR/NEGATIVE</td>\n",
       "      <td>2 PUBLIC ONLY</td>\n",
       "      <td>12697</td>\n",
       "      <td>11143.446028</td>\n",
       "      <td>15919.21</td>\n",
       "    </tr>\n",
       "    <tr>\n",
       "      <th>2</th>\n",
       "      <td>67</td>\n",
       "      <td>1 MALE</td>\n",
       "      <td>2 MIDWEST</td>\n",
       "      <td>1 EMPLOYED AT RD 4/2 INT DATE</td>\n",
       "      <td>4 MIDDLE INCOME</td>\n",
       "      <td>2 PUBLIC ONLY</td>\n",
       "      <td>3405</td>\n",
       "      <td>6991.207639</td>\n",
       "      <td>9987.44</td>\n",
       "    </tr>\n",
       "    <tr>\n",
       "      <th>3</th>\n",
       "      <td>29</td>\n",
       "      <td>1 MALE</td>\n",
       "      <td>4 WEST</td>\n",
       "      <td>1 EMPLOYED AT RD 4/2 INT DATE</td>\n",
       "      <td>5 HIGH INCOME</td>\n",
       "      <td>1 ANY PRIVATE</td>\n",
       "      <td>9265</td>\n",
       "      <td>5384.183938</td>\n",
       "      <td>7691.69</td>\n",
       "    </tr>\n",
       "    <tr>\n",
       "      <th>4</th>\n",
       "      <td>51</td>\n",
       "      <td>2 FEMALE</td>\n",
       "      <td>1 NORTHEAST</td>\n",
       "      <td>1 EMPLOYED AT RD 4/2 INT DATE</td>\n",
       "      <td>4 MIDDLE INCOME</td>\n",
       "      <td>1 ANY PRIVATE</td>\n",
       "      <td>3362</td>\n",
       "      <td>4703.247548</td>\n",
       "      <td>6718.93</td>\n",
       "    </tr>\n",
       "  </tbody>\n",
       "</table>\n",
       "</div>"
      ],
      "text/plain": [
       "   AGE42X       SEX     REGION42                        EMPST42  \\\n",
       "0      77  2 FEMALE    2 MIDWEST   4 NOT EMPLOYED DURING RD 4/2   \n",
       "1      63  2 FEMALE    2 MIDWEST   4 NOT EMPLOYED DURING RD 4/2   \n",
       "2      67    1 MALE    2 MIDWEST  1 EMPLOYED AT RD 4/2 INT DATE   \n",
       "3      29    1 MALE       4 WEST  1 EMPLOYED AT RD 4/2 INT DATE   \n",
       "4      51  2 FEMALE  1 NORTHEAST  1 EMPLOYED AT RD 4/2 INT DATE   \n",
       "\n",
       "          POVCAT22       INSCOV22  TOTEXP22  predicted_cost  suggested_premium  \n",
       "0     3 LOW INCOME  2 PUBLIC ONLY     15766    15267.833476           21811.19  \n",
       "1  1 POOR/NEGATIVE  2 PUBLIC ONLY     12697    11143.446028           15919.21  \n",
       "2  4 MIDDLE INCOME  2 PUBLIC ONLY      3405     6991.207639            9987.44  \n",
       "3    5 HIGH INCOME  1 ANY PRIVATE      9265     5384.183938            7691.69  \n",
       "4  4 MIDDLE INCOME  1 ANY PRIVATE      3362     4703.247548            6718.93  "
      ]
     },
     "execution_count": 11,
     "metadata": {},
     "output_type": "execute_result"
    }
   ],
   "source": [
    "# Created a suggested premium for each individual based on many variables as shown below with a 70% loss ratio.\n",
    "loss_ratio = 0.70\n",
    "suggested_df = suggested_premium(rf_model, x, loss_ratio, model_df)\n",
    "suggested_df.to_csv('../data/suggested_premiums.csv')\n",
    "suggested_df.to_stata('../data/suggested_premiums.dta')\n",
    "suggested_df.head()"
   ]
  }
 ],
 "metadata": {
  "kernelspec": {
   "display_name": "Python 3",
   "language": "python",
   "name": "python3"
  },
  "language_info": {
   "codemirror_mode": {
    "name": "ipython",
    "version": 3
   },
   "file_extension": ".py",
   "mimetype": "text/x-python",
   "name": "python",
   "nbconvert_exporter": "python",
   "pygments_lexer": "ipython3",
   "version": "3.13.5"
  }
 },
 "nbformat": 4,
 "nbformat_minor": 5
}
